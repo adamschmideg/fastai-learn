{
 "cells": [
  {
   "cell_type": "code",
   "execution_count": 1,
   "id": "c3077db2",
   "metadata": {
    "_cell_guid": "b1076dfc-b9ad-4769-8c92-a6c4dae69d19",
    "_uuid": "8f2839f25d086af736a60e9eeb907d3b93b6e0e5",
    "execution": {
     "iopub.execute_input": "2022-09-22T20:39:54.804495Z",
     "iopub.status.busy": "2022-09-22T20:39:54.803225Z",
     "iopub.status.idle": "2022-09-22T20:40:23.040843Z",
     "shell.execute_reply": "2022-09-22T20:40:23.039472Z"
    },
    "papermill": {
     "duration": 28.246404,
     "end_time": "2022-09-22T20:40:23.043824",
     "exception": false,
     "start_time": "2022-09-22T20:39:54.797420",
     "status": "completed"
    },
    "tags": []
   },
   "outputs": [
    {
     "name": "stdout",
     "output_type": "stream",
     "text": [
      "\u001b[31mERROR: pip's dependency resolver does not currently take into account all the packages that are installed. This behaviour is the source of the following dependency conflicts.\r\n",
      "tensorflow-io 0.21.0 requires tensorflow-io-gcs-filesystem==0.21.0, which is not installed.\r\n",
      "tensorflow 2.6.4 requires h5py~=3.1.0, but you have h5py 3.7.0 which is incompatible.\r\n",
      "tensorflow 2.6.4 requires numpy~=1.19.2, but you have numpy 1.21.6 which is incompatible.\r\n",
      "tensorflow 2.6.4 requires tensorboard<2.7,>=2.6.0, but you have tensorboard 2.10.0 which is incompatible.\r\n",
      "tensorflow 2.6.4 requires typing-extensions<3.11,>=3.7, but you have typing-extensions 4.1.1 which is incompatible.\r\n",
      "tensorflow-transform 1.9.0 requires pyarrow<6,>=1, but you have pyarrow 8.0.0 which is incompatible.\r\n",
      "tensorflow-transform 1.9.0 requires tensorflow!=2.0.*,!=2.1.*,!=2.2.*,!=2.3.*,!=2.4.*,!=2.5.*,!=2.6.*,!=2.7.*,!=2.8.*,<2.10,>=1.15.5, but you have tensorflow 2.6.4 which is incompatible.\r\n",
      "tensorflow-serving-api 2.9.0 requires tensorflow<3,>=2.9.0, but you have tensorflow 2.6.4 which is incompatible.\r\n",
      "ray 2.0.0 requires click<=8.0.4,>=7.0, but you have click 8.1.3 which is incompatible.\r\n",
      "pandas-profiling 3.1.0 requires markupsafe~=2.0.1, but you have markupsafe 2.1.1 which is incompatible.\r\n",
      "flax 0.6.0 requires rich~=11.1, but you have rich 12.1.0 which is incompatible.\r\n",
      "flake8 4.0.1 requires importlib-metadata<4.3; python_version < \"3.8\", but you have importlib-metadata 4.12.0 which is incompatible.\r\n",
      "apache-beam 2.40.0 requires dill<0.3.2,>=0.3.1.1, but you have dill 0.3.5.1 which is incompatible.\r\n",
      "apache-beam 2.40.0 requires pyarrow<8.0.0,>=0.15.1, but you have pyarrow 8.0.0 which is incompatible.\r\n",
      "allennlp 2.10.0 requires protobuf==3.20.0, but you have protobuf 3.19.4 which is incompatible.\r\n",
      "aiobotocore 2.4.0 requires botocore<1.27.60,>=1.27.59, but you have botocore 1.27.72 which is incompatible.\u001b[0m\u001b[31m\r\n",
      "\u001b[0m"
     ]
    }
   ],
   "source": [
    "!pip install -Uqq fastai duckduckgo_search\n"
   ]
  },
  {
   "cell_type": "code",
   "execution_count": 2,
   "id": "94f2756e",
   "metadata": {
    "execution": {
     "iopub.execute_input": "2022-09-22T20:40:23.051671Z",
     "iopub.status.busy": "2022-09-22T20:40:23.051271Z",
     "iopub.status.idle": "2022-09-22T20:40:26.642361Z",
     "shell.execute_reply": "2022-09-22T20:40:26.640150Z"
    },
    "papermill": {
     "duration": 3.598156,
     "end_time": "2022-09-22T20:40:26.645223",
     "exception": false,
     "start_time": "2022-09-22T20:40:23.047067",
     "status": "completed"
    },
    "tags": []
   },
   "outputs": [
    {
     "data": {
      "image/png": "[encoded data removed]",
      "text/plain": [
       "<PIL.Image.Image image mode=L size=100x100>"
      ]
     },
     "execution_count": 2,
     "metadata": {},
     "output_type": "execute_result"
    }
   ],
   "source": [
    "import PIL\n",
    "IMG_WIDTH = 250\n",
    "\n",
    "def char_to_pixel(c):\n",
    "    if c == ' ':\n",
    "        return 1\n",
    "    return min(255, ord(c) * 2 - 1)\n",
    "\n",
    "def textlines_to_image(lines, img_file, width=IMG_WIDTH):\n",
    "    lines_processed = 0\n",
    "    raw = []\n",
    "    for line in lines:\n",
    "        padded_line = line[:width].ljust(width, ' ')\n",
    "        pixels = [char_to_pixel(c) for c in padded_line]\n",
    "        raw.extend(pixels)\n",
    "        lines_processed += 1\n",
    "    blank_line = [1] * width\n",
    "    while lines_processed < width:\n",
    "        raw.extend(blank_line)\n",
    "        lines_processed += 1\n",
    "    # padded_text\n",
    "    # return raw\n",
    "    im = PIL.Image.frombytes('L', (width, width), bytes(raw))\n",
    "    im.save(img_file, 'png')\n",
    "    \n",
    "\n",
    "# test\n",
    "import inspect\n",
    "import difflib\n",
    "source = inspect.getsource(difflib.context_diff)\n",
    "#source = inspect.getsource(inspect.getsource)\n",
    "textlines_to_image(source.splitlines(), 'python.png')\n",
    "\n",
    "from fastai.vision.all import *\n",
    "Image.open('python.png').to_thumb(100, 100)"
   ]
  },
  {
   "cell_type": "code",
   "execution_count": 3,
   "id": "bc3399c7",
   "metadata": {
    "execution": {
     "iopub.execute_input": "2022-09-22T20:40:26.653359Z",
     "iopub.status.busy": "2022-09-22T20:40:26.652731Z",
     "iopub.status.idle": "2022-09-22T20:40:26.991180Z",
     "shell.execute_reply": "2022-09-22T20:40:26.990059Z"
    },
    "papermill": {
     "duration": 0.345073,
     "end_time": "2022-09-22T20:40:26.993570",
     "exception": false,
     "start_time": "2022-09-22T20:40:26.648497",
     "status": "completed"
    },
    "tags": []
   },
   "outputs": [
    {
     "data": {
      "text/plain": [
       "['#!/usr/bin/env python\\n',\n",
       " '# -*- coding: utf-8 -*-\\n',\n",
       " '\\n',\n",
       " 'import sys\\n',\n",
       " 'import time\\n']"
      ]
     },
     "execution_count": 3,
     "metadata": {},
     "output_type": "execute_result"
    }
   ],
   "source": [
    "from fastdownload import *\n",
    "\n",
    "python_zip_url = 'https://github.com/Shemiou/Small_Python/archive/refs/heads/master.zip'\n",
    "download_url(python_zip_url, dest='python.zip', show_progress=False)\n",
    "\n",
    "from zipfile import ZipFile\n",
    "\n",
    "\n",
    "def lines_of_zipped_files(zipfile, file_filter):\n",
    "    with ZipFile(zipfile) as zf:\n",
    "        for file in zf.namelist():\n",
    "            if file_filter(file):\n",
    "                with zf.open(file) as f:\n",
    "                    for line in f.readlines():\n",
    "                        yield line.decode()\n",
    "\n",
    "def filter_for_extension(extension):\n",
    "    return lambda file: file.endswith(extension)\n",
    "\n",
    "all_lines = lines_of_zipped_files('python.zip', filter_for_extension('.py'))           \n",
    "[line for line in all_lines][:5]"
   ]
  },
  {
   "cell_type": "code",
   "execution_count": 4,
   "id": "f4960ee2",
   "metadata": {
    "execution": {
     "iopub.execute_input": "2022-09-22T20:40:27.002037Z",
     "iopub.status.busy": "2022-09-22T20:40:27.001272Z",
     "iopub.status.idle": "2022-09-22T20:40:27.010217Z",
     "shell.execute_reply": "2022-09-22T20:40:27.009230Z"
    },
    "papermill": {
     "duration": 0.015525,
     "end_time": "2022-09-22T20:40:27.012359",
     "exception": false,
     "start_time": "2022-09-22T20:40:26.996834",
     "status": "completed"
    },
    "tags": []
   },
   "outputs": [],
   "source": [
    "def partition(iterable, chunk_size):\n",
    "    items_added = 0\n",
    "    chunk = []\n",
    "    for item in iterable:\n",
    "        items_added += 1\n",
    "        chunk.append(item)\n",
    "        if items_added == chunk_size:\n",
    "            yield chunk\n",
    "            items_added = 0\n",
    "            chunk = []\n",
    "    if chunk:\n",
    "        yield chunk\n",
    "        \n",
    "test_eq([[0, 1], [2, 3], [4, 5]], [i for i in partition(range(6), 2)])\n",
    "test_eq([[0, 1], [2, 3], [4]], [i for i in partition(range(5), 2)])"
   ]
  },
  {
   "cell_type": "code",
   "execution_count": 5,
   "id": "79f2d751",
   "metadata": {
    "execution": {
     "iopub.execute_input": "2022-09-22T20:40:27.020833Z",
     "iopub.status.busy": "2022-09-22T20:40:27.019985Z",
     "iopub.status.idle": "2022-09-22T20:40:27.041323Z",
     "shell.execute_reply": "2022-09-22T20:40:27.040228Z"
    },
    "papermill": {
     "duration": 0.028324,
     "end_time": "2022-09-22T20:40:27.043919",
     "exception": false,
     "start_time": "2022-09-22T20:40:27.015595",
     "status": "completed"
    },
    "tags": []
   },
   "outputs": [],
   "source": [
    "from pathlib import Path\n",
    "\n",
    "def lines_to_images(lines, folder_path):\n",
    "    folder_path.mkdir(parents=True, exist_ok=True)\n",
    "    chunk_index = 0\n",
    "    for chunk in partition(lines, IMG_WIDTH):\n",
    "        chunk_index += 1\n",
    "        file = folder_path / \"{0}.png\".format(chunk_index)\n",
    "        textlines_to_image(chunk, file)\n",
    "    \n",
    "all_lines = lines_of_zipped_files('python.zip', filter_for_extension('.py'))           \n",
    "some_lines = [l for l in all_lines][:2*IMG_WIDTH]\n",
    "lines_to_images(some_lines, Path('tmp'))\n"
   ]
  },
  {
   "cell_type": "code",
   "execution_count": 6,
   "id": "e8d6ab42",
   "metadata": {
    "execution": {
     "iopub.execute_input": "2022-09-22T20:40:27.052315Z",
     "iopub.status.busy": "2022-09-22T20:40:27.051586Z",
     "iopub.status.idle": "2022-09-22T20:40:27.555049Z",
     "shell.execute_reply": "2022-09-22T20:40:27.553914Z"
    },
    "papermill": {
     "duration": 0.510508,
     "end_time": "2022-09-22T20:40:27.557654",
     "exception": false,
     "start_time": "2022-09-22T20:40:27.047146",
     "status": "completed"
    },
    "tags": []
   },
   "outputs": [],
   "source": [
    "def download_zip_and_convert_lines_to_images(url, dest_zip, extension, target_folder):\n",
    "    download_url(url, dest_zip, show_progress=False)\n",
    "    all_lines = lines_of_zipped_files(dest_zip, filter_for_extension(extension))\n",
    "    lines_to_images(all_lines, Path(target_folder))\n",
    "\n",
    "path = Path('python_or_java')\n",
    "download_zip_and_convert_lines_to_images(python_zip_url, 'python.zip', '.py', path / 'python')\n",
    "java_zip_url = 'https://github.com/eea15/small-java-projects/archive/refs/heads/master.zip'\n",
    "download_zip_and_convert_lines_to_images(java_zip_url, 'java.zip', '.java', path / 'java')\n",
    "\n"
   ]
  },
  {
   "cell_type": "code",
   "execution_count": 7,
   "id": "b08a77f1",
   "metadata": {
    "execution": {
     "iopub.execute_input": "2022-09-22T20:40:27.566038Z",
     "iopub.status.busy": "2022-09-22T20:40:27.565642Z",
     "iopub.status.idle": "2022-09-22T20:40:27.829944Z",
     "shell.execute_reply": "2022-09-22T20:40:27.828748Z"
    },
    "papermill": {
     "duration": 0.271628,
     "end_time": "2022-09-22T20:40:27.832534",
     "exception": false,
     "start_time": "2022-09-22T20:40:27.560906",
     "status": "completed"
    },
    "tags": []
   },
   "outputs": [
    {
     "data": {
      "image/png": "[encoded data removed]",
      "text/plain": [
       "<Figure size 432x216 with 2 Axes>"
      ]
     },
     "metadata": {
      "needs_background": "light"
     },
     "output_type": "display_data"
    }
   ],
   "source": [
    "dls = DataBlock(\n",
    "    blocks=(ImageBlock, CategoryBlock), \n",
    "    get_items=get_image_files, \n",
    "    splitter=RandomSplitter(valid_pct=0.2, seed=42),\n",
    "    get_y=parent_label,\n",
    "    item_tfms=[Resize(192, method='squish')]\n",
    ").dataloaders(path, bs=2)\n",
    "\n",
    "dls.show_batch(max_n=6)"
   ]
  }
 ],
 "metadata": {
  "kernelspec": {
   "display_name": "Python 3",
   "language": "python",
   "name": "python3"
  },
  "language_info": {
   "codemirror_mode": {
    "name": "ipython",
    "version": 3
   },
   "file_extension": ".py",
   "mimetype": "text/x-python",
   "name": "python",
   "nbconvert_exporter": "python",
   "pygments_lexer": "ipython3",
   "version": "3.7.12"
  },
  "papermill": {
   "default_parameters": {},
   "duration": 43.259655,
   "end_time": "2022-09-22T20:40:28.860277",
   "environment_variables": {},
   "exception": null,
   "input_path": "__notebook__.ipynb",
   "output_path": "__notebook__.ipynb",
   "parameters": {},
   "start_time": "2022-09-22T20:39:45.600622",
   "version": "2.3.4"
  }
 },
 "nbformat": 4,
 "nbformat_minor": 5
}
