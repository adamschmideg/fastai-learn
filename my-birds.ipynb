{
 "cells": [
  {
   "cell_type": "code",
   "execution_count": 1,
   "id": "c00bfa8d",
   "metadata": {
    "_cell_guid": "b1076dfc-b9ad-4769-8c92-a6c4dae69d19",
    "_uuid": "8f2839f25d086af736a60e9eeb907d3b93b6e0e5",
    "execution": {
     "iopub.execute_input": "2022-09-20T16:39:08.155241Z",
     "iopub.status.busy": "2022-09-20T16:39:08.154763Z",
     "iopub.status.idle": "2022-09-20T16:39:38.882791Z",
     "shell.execute_reply": "2022-09-20T16:39:38.881610Z"
    },
    "papermill": {
     "duration": 30.737294,
     "end_time": "2022-09-20T16:39:38.885873",
     "exception": false,
     "start_time": "2022-09-20T16:39:08.148579",
     "status": "completed"
    },
    "tags": []
   },
   "outputs": [
    {
     "name": "stdout",
     "output_type": "stream",
     "text": [
      "\u001b[31mERROR: pip's dependency resolver does not currently take into account all the packages that are installed. This behaviour is the source of the following dependency conflicts.\r\n",
      "tensorflow-io 0.21.0 requires tensorflow-io-gcs-filesystem==0.21.0, which is not installed.\r\n",
      "tensorflow 2.6.4 requires h5py~=3.1.0, but you have h5py 3.7.0 which is incompatible.\r\n",
      "tensorflow 2.6.4 requires numpy~=1.19.2, but you have numpy 1.21.6 which is incompatible.\r\n",
      "tensorflow 2.6.4 requires tensorboard<2.7,>=2.6.0, but you have tensorboard 2.10.0 which is incompatible.\r\n",
      "tensorflow 2.6.4 requires typing-extensions<3.11,>=3.7, but you have typing-extensions 4.1.1 which is incompatible.\r\n",
      "tensorflow-transform 1.9.0 requires pyarrow<6,>=1, but you have pyarrow 8.0.0 which is incompatible.\r\n",
      "tensorflow-transform 1.9.0 requires tensorflow!=2.0.*,!=2.1.*,!=2.2.*,!=2.3.*,!=2.4.*,!=2.5.*,!=2.6.*,!=2.7.*,!=2.8.*,<2.10,>=1.15.5, but you have tensorflow 2.6.4 which is incompatible.\r\n",
      "tensorflow-serving-api 2.9.0 requires tensorflow<3,>=2.9.0, but you have tensorflow 2.6.4 which is incompatible.\r\n",
      "ray 2.0.0 requires click<=8.0.4,>=7.0, but you have click 8.1.3 which is incompatible.\r\n",
      "pandas-profiling 3.1.0 requires markupsafe~=2.0.1, but you have markupsafe 2.1.1 which is incompatible.\r\n",
      "flax 0.6.0 requires rich~=11.1, but you have rich 12.1.0 which is incompatible.\r\n",
      "flake8 4.0.1 requires importlib-metadata<4.3; python_version < \"3.8\", but you have importlib-metadata 4.12.0 which is incompatible.\r\n",
      "apache-beam 2.40.0 requires dill<0.3.2,>=0.3.1.1, but you have dill 0.3.5.1 which is incompatible.\r\n",
      "apache-beam 2.40.0 requires pyarrow<8.0.0,>=0.15.1, but you have pyarrow 8.0.0 which is incompatible.\r\n",
      "allennlp 2.10.0 requires protobuf==3.20.0, but you have protobuf 3.19.4 which is incompatible.\r\n",
      "aiobotocore 2.4.0 requires botocore<1.27.60,>=1.27.59, but you have botocore 1.27.72 which is incompatible.\u001b[0m\u001b[31m\r\n",
      "\u001b[0m"
     ]
    }
   ],
   "source": [
    "!pip install -Uqq fastai duckduckgo_search\n"
   ]
  },
  {
   "cell_type": "code",
   "execution_count": 2,
   "id": "dd31f930",
   "metadata": {
    "execution": {
     "iopub.execute_input": "2022-09-20T16:39:38.892894Z",
     "iopub.status.busy": "2022-09-20T16:39:38.892348Z",
     "iopub.status.idle": "2022-09-20T16:39:41.435663Z",
     "shell.execute_reply": "2022-09-20T16:39:41.434771Z"
    },
    "papermill": {
     "duration": 2.550263,
     "end_time": "2022-09-20T16:39:41.438654",
     "exception": false,
     "start_time": "2022-09-20T16:39:38.888391",
     "status": "completed"
    },
    "tags": []
   },
   "outputs": [
    {
     "data": {
      "text/plain": [
       "'http://4.bp.blogspot.com/-t1ypdIxiOo8/UKrx8dUZa6I/AAAAAAAANw0/LHNYgZr_lgk/s1600/Love+Birds+Wallpapers+04.jpg'"
      ]
     },
     "execution_count": 2,
     "metadata": {},
     "output_type": "execute_result"
    }
   ],
   "source": [
    "from fastcore.all import *\n",
    "import time\n",
    "import json\n",
    "\n",
    "def search_images(term, max_images=200):\n",
    "    url = 'https://duckduckgo.com/'\n",
    "    res = urlread(url,data={'q':term})\n",
    "    searchObj = re.search(r'vqd=([\\d-]+)\\&', res)\n",
    "    requestUrl = url + 'i.js'\n",
    "    params = dict(l='us-en', o='json', q=term, vqd=searchObj.group(1), f=',,,', p='1', v7exp='a')    \n",
    "    headers = dict( referer='https://duckduckgo.com/' )\n",
    "    urls,data = set(),{'next':1}\n",
    "    while len(urls)<max_images and 'next' in data:\n",
    "        res = urlread(requestUrl, data=params, headers=headers)\n",
    "        data = json.loads(res) if res else {}\n",
    "        urls.update(L(data['results']).itemgot('image'))\n",
    "        requestUrl = url + data['next']\n",
    "        time.sleep(0.2)\n",
    "    return L(urls)[:max_images]\n",
    "\n",
    "urls = search_images('bird photos', max_images=1)\n",
    "urls[0]\n",
    "\n",
    "\n",
    "# dir(Image)"
   ]
  },
  {
   "cell_type": "code",
   "execution_count": 3,
   "id": "ccd3b4e1",
   "metadata": {
    "execution": {
     "iopub.execute_input": "2022-09-20T16:39:41.445461Z",
     "iopub.status.busy": "2022-09-20T16:39:41.444546Z",
     "iopub.status.idle": "2022-09-20T16:39:41.473534Z",
     "shell.execute_reply": "2022-09-20T16:39:41.472416Z"
    },
    "papermill": {
     "duration": 0.035232,
     "end_time": "2022-09-20T16:39:41.476291",
     "exception": false,
     "start_time": "2022-09-20T16:39:41.441059",
     "status": "completed"
    },
    "tags": []
   },
   "outputs": [
    {
     "data": {
      "image/png": "[encoded data removed]",
      "text/plain": [
       "<IPython.core.display.Image object>"
      ]
     },
     "execution_count": 3,
     "metadata": {},
     "output_type": "execute_result"
    }
   ],
   "source": [
    "from PIL import Image\n",
    "#from fastai import open_image\n",
    "\n",
    "dir(Image)\n",
    "\n",
    "def text_to_image(text, img_file):\n",
    "    width = 128\n",
    "    padded_text = text.ljust(width**2, ' ')\n",
    "    raw = bytes(padded_text, 'utf-8')\n",
    "    im = Image.frombytes('L', (width, width), raw)\n",
    "    im.save(img_file, 'png')\n",
    "    \n",
    "\n",
    "# test\n",
    "import inspect\n",
    "source = inspect.getsource(inspect.getsource)\n",
    "text_to_image(source, 'python.png')\n",
    "\n",
    "from IPython.display import Image as show_image\n",
    "show_image('python.png')\n"
   ]
  }
 ],
 "metadata": {
  "kernelspec": {
   "display_name": "Python 3",
   "language": "python",
   "name": "python3"
  },
  "language_info": {
   "codemirror_mode": {
    "name": "ipython",
    "version": 3
   },
   "file_extension": ".py",
   "mimetype": "text/x-python",
   "name": "python",
   "nbconvert_exporter": "python",
   "pygments_lexer": "ipython3",
   "version": "3.7.12"
  },
  "papermill": {
   "default_parameters": {},
   "duration": 43.769656,
   "end_time": "2022-09-20T16:39:42.403269",
   "environment_variables": {},
   "exception": null,
   "input_path": "__notebook__.ipynb",
   "output_path": "__notebook__.ipynb",
   "parameters": {},
   "start_time": "2022-09-20T16:38:58.633613",
   "version": "2.3.4"
  }
 },
 "nbformat": 4,
 "nbformat_minor": 5
}
